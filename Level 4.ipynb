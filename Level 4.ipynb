{
 "cells": [
  {
   "cell_type": "code",
   "execution_count": 1,
   "metadata": {},
   "outputs": [],
   "source": [
    "import pandas as pd\n",
    "import seaborn as sns\n",
    "import glob\n",
    "import numpy as np\n",
    "import scipy.stats as stats\n",
    "from tabulate import tabulate\n",
    "import seaborn as sns\n",
    "import matplotlib.pyplot as plt\n",
    "from sklearn.impute import SimpleImputer\n",
    "from sklearn.neighbors import LocalOutlierFactor\n",
    "from scipy.stats import probplot\n",
    "from scipy.stats import zscore"
   ]
  },
  {
   "cell_type": "markdown",
   "metadata": {},
   "source": [
    "## Preprocessing"
   ]
  },
  {
   "cell_type": "code",
   "execution_count": 2,
   "metadata": {},
   "outputs": [],
   "source": [
    "# Get a list of all csv files in the data directory \n",
    "\n",
    "files = glob.glob('data/*.csv')"
   ]
  },
  {
   "cell_type": "code",
   "execution_count": 3,
   "metadata": {},
   "outputs": [],
   "source": [
    "#List to hold the DataFrame\n",
    "dfs = []\n",
    "\n",
    "#Loop through each file, read it into a DataFrame and skip the first row \n",
    "for file in files:\n",
    "    i_df = pd.read_csv(file, encoding='utf-8', engine='python')\n",
    "    dfs.append(i_df)\n",
    "    \n",
    "#Concatenate the DataFrames into a single DataFrame\n",
    "pre_df = pd.concat(dfs, ignore_index=True)"
   ]
  },
  {
   "cell_type": "code",
   "execution_count": 4,
   "metadata": {},
   "outputs": [],
   "source": [
    "#pivot determinants \n",
    "df_wide = pre_df.pivot_table(index=['sample.samplingPoint.label','sample.sampleDateTime','sample.samplingPoint.easting','sample.samplingPoint.northing'],columns='determinand.label',\n",
    "                           \n",
    "                           values='result'\n",
    "                           )"
   ]
  },
  {
   "cell_type": "code",
   "execution_count": 5,
   "metadata": {},
   "outputs": [
    {
     "data": {
      "text/html": [
       "<div>\n",
       "<style scoped>\n",
       "    .dataframe tbody tr th:only-of-type {\n",
       "        vertical-align: middle;\n",
       "    }\n",
       "\n",
       "    .dataframe tbody tr th {\n",
       "        vertical-align: top;\n",
       "    }\n",
       "\n",
       "    .dataframe thead th {\n",
       "        text-align: right;\n",
       "    }\n",
       "</style>\n",
       "<table border=\"1\" class=\"dataframe\">\n",
       "  <thead>\n",
       "    <tr style=\"text-align: right;\">\n",
       "      <th></th>\n",
       "      <th>column_name</th>\n",
       "      <th>missing_percent</th>\n",
       "    </tr>\n",
       "    <tr>\n",
       "      <th>determinand.label</th>\n",
       "      <th></th>\n",
       "      <th></th>\n",
       "    </tr>\n",
       "  </thead>\n",
       "  <tbody>\n",
       "    <tr>\n",
       "      <th>Alky pH 4.5</th>\n",
       "      <td>Alky pH 4.5</td>\n",
       "      <td>0.790536</td>\n",
       "    </tr>\n",
       "    <tr>\n",
       "      <th>Ammonia(N)</th>\n",
       "      <td>Ammonia(N)</td>\n",
       "      <td>0.479705</td>\n",
       "    </tr>\n",
       "    <tr>\n",
       "      <th>BOD ATU</th>\n",
       "      <td>BOD ATU</td>\n",
       "      <td>0.456884</td>\n",
       "    </tr>\n",
       "    <tr>\n",
       "      <th>COD as O2</th>\n",
       "      <td>COD as O2</td>\n",
       "      <td>0.786017</td>\n",
       "    </tr>\n",
       "    <tr>\n",
       "      <th>Chloride Ion</th>\n",
       "      <td>Chloride Ion</td>\n",
       "      <td>0.875309</td>\n",
       "    </tr>\n",
       "    <tr>\n",
       "      <th>Cond @ 25C</th>\n",
       "      <td>Cond @ 25C</td>\n",
       "      <td>0.755462</td>\n",
       "    </tr>\n",
       "    <tr>\n",
       "      <th>N Oxidised</th>\n",
       "      <td>N Oxidised</td>\n",
       "      <td>0.707908</td>\n",
       "    </tr>\n",
       "    <tr>\n",
       "      <th>NH3 un-ion</th>\n",
       "      <td>NH3 un-ion</td>\n",
       "      <td>0.800352</td>\n",
       "    </tr>\n",
       "    <tr>\n",
       "      <th>Nitrate-N</th>\n",
       "      <td>Nitrate-N</td>\n",
       "      <td>0.743012</td>\n",
       "    </tr>\n",
       "    <tr>\n",
       "      <th>Nitrite-N</th>\n",
       "      <td>Nitrite-N</td>\n",
       "      <td>0.727877</td>\n",
       "    </tr>\n",
       "    <tr>\n",
       "      <th>O Diss %sat</th>\n",
       "      <td>O Diss %sat</td>\n",
       "      <td>0.722695</td>\n",
       "    </tr>\n",
       "    <tr>\n",
       "      <th>Orthophospht</th>\n",
       "      <td>Orthophospht</td>\n",
       "      <td>0.718418</td>\n",
       "    </tr>\n",
       "    <tr>\n",
       "      <th>Oxygen Diss</th>\n",
       "      <td>Oxygen Diss</td>\n",
       "      <td>0.749031</td>\n",
       "    </tr>\n",
       "    <tr>\n",
       "      <th>Phosphorus-P</th>\n",
       "      <td>Phosphorus-P</td>\n",
       "      <td>0.823309</td>\n",
       "    </tr>\n",
       "    <tr>\n",
       "      <th>Sld Sus@105C</th>\n",
       "      <td>Sld Sus@105C</td>\n",
       "      <td>0.577178</td>\n",
       "    </tr>\n",
       "    <tr>\n",
       "      <th>Temp Water</th>\n",
       "      <td>Temp Water</td>\n",
       "      <td>0.578698</td>\n",
       "    </tr>\n",
       "    <tr>\n",
       "      <th>pH</th>\n",
       "      <td>pH</td>\n",
       "      <td>0.704518</td>\n",
       "    </tr>\n",
       "  </tbody>\n",
       "</table>\n",
       "</div>"
      ],
      "text/plain": [
       "                    column_name  missing_percent\n",
       "determinand.label                               \n",
       "Alky pH 4.5         Alky pH 4.5         0.790536\n",
       "Ammonia(N)           Ammonia(N)         0.479705\n",
       "BOD ATU                 BOD ATU         0.456884\n",
       "COD as O2             COD as O2         0.786017\n",
       "Chloride Ion       Chloride Ion         0.875309\n",
       "Cond @ 25C           Cond @ 25C         0.755462\n",
       "N Oxidised           N Oxidised         0.707908\n",
       "NH3 un-ion           NH3 un-ion         0.800352\n",
       "Nitrate-N             Nitrate-N         0.743012\n",
       "Nitrite-N             Nitrite-N         0.727877\n",
       "O Diss %sat         O Diss %sat         0.722695\n",
       "Orthophospht       Orthophospht         0.718418\n",
       "Oxygen Diss         Oxygen Diss         0.749031\n",
       "Phosphorus-P       Phosphorus-P         0.823309\n",
       "Sld Sus@105C       Sld Sus@105C         0.577178\n",
       "Temp Water           Temp Water         0.578698\n",
       "pH                           pH         0.704518"
      ]
     },
     "execution_count": 5,
     "metadata": {},
     "output_type": "execute_result"
    }
   ],
   "source": [
    "# drop columns with more than 90% null values \n",
    "\n",
    "missing_percent = df_wide.isnull().sum()/len(df_wide)\n",
    "df_missing = pd.DataFrame({'column_name': df_wide.columns,\n",
    "                                 'missing_percent': missing_percent})\n",
    "threshold = 0.90\n",
    "col_ndrop = df_missing[missing_percent<threshold]\n",
    "col_ndrop"
   ]
  },
  {
   "cell_type": "code",
   "execution_count": 7,
   "metadata": {},
   "outputs": [],
   "source": [
    "# List of column names to keep\n",
    "cols_to_keep = ['Ammonia(N)']\n",
    "\n",
    "# Select only the desired columns\n",
    "df_wide = df_wide[cols_to_keep]"
   ]
  },
  {
   "cell_type": "code",
   "execution_count": 12,
   "metadata": {},
   "outputs": [
    {
     "data": {
      "text/plain": [
       "396090"
      ]
     },
     "execution_count": 12,
     "metadata": {},
     "output_type": "execute_result"
    }
   ],
   "source": [
    "df_wide['Ammonia(N)'].isnull().sum()"
   ]
  },
  {
   "cell_type": "code",
   "execution_count": 13,
   "metadata": {},
   "outputs": [
    {
     "data": {
      "text/plain": [
       "(825695, 1)"
      ]
     },
     "execution_count": 13,
     "metadata": {},
     "output_type": "execute_result"
    }
   ],
   "source": [
    "df_wide.shape"
   ]
  },
  {
   "cell_type": "code",
   "execution_count": 15,
   "metadata": {},
   "outputs": [],
   "source": [
    "#convert the index columns to dataset columns\n",
    "df_wide_index = df_wide.reset_index().rename(columns={'index': 'sample.sampleDateTime'})"
   ]
  },
  {
   "cell_type": "code",
   "execution_count": 16,
   "metadata": {},
   "outputs": [
    {
     "data": {
      "text/html": [
       "<div>\n",
       "<style scoped>\n",
       "    .dataframe tbody tr th:only-of-type {\n",
       "        vertical-align: middle;\n",
       "    }\n",
       "\n",
       "    .dataframe tbody tr th {\n",
       "        vertical-align: top;\n",
       "    }\n",
       "\n",
       "    .dataframe thead th {\n",
       "        text-align: right;\n",
       "    }\n",
       "</style>\n",
       "<table border=\"1\" class=\"dataframe\">\n",
       "  <thead>\n",
       "    <tr style=\"text-align: right;\">\n",
       "      <th>determinand.label</th>\n",
       "      <th>sample.samplingPoint.label</th>\n",
       "      <th>sample.sampleDateTime</th>\n",
       "      <th>sample.samplingPoint.easting</th>\n",
       "      <th>sample.samplingPoint.northing</th>\n",
       "      <th>Ammonia(N)</th>\n",
       "    </tr>\n",
       "  </thead>\n",
       "  <tbody>\n",
       "    <tr>\n",
       "      <th>0</th>\n",
       "      <td>(A) WINNING COLLIERY, MINEWATER</td>\n",
       "      <td>2016-10-27T13:00:00</td>\n",
       "      <td>443700.0</td>\n",
       "      <td>357600.0</td>\n",
       "      <td>0.772</td>\n",
       "    </tr>\n",
       "    <tr>\n",
       "      <th>1</th>\n",
       "      <td>(A) WINNING COLLIERY, MINEWATER</td>\n",
       "      <td>2018-05-22T13:53:00</td>\n",
       "      <td>443700.0</td>\n",
       "      <td>357600.0</td>\n",
       "      <td>NaN</td>\n",
       "    </tr>\n",
       "    <tr>\n",
       "      <th>2</th>\n",
       "      <td>(A) WINNING COLLIERY, MINEWATER</td>\n",
       "      <td>2018-06-22T13:50:00</td>\n",
       "      <td>443700.0</td>\n",
       "      <td>357600.0</td>\n",
       "      <td>NaN</td>\n",
       "    </tr>\n",
       "    <tr>\n",
       "      <th>3</th>\n",
       "      <td>(A) WINNING COLLIERY, MINEWATER</td>\n",
       "      <td>2018-06-25T10:45:00</td>\n",
       "      <td>443700.0</td>\n",
       "      <td>357600.0</td>\n",
       "      <td>NaN</td>\n",
       "    </tr>\n",
       "    <tr>\n",
       "      <th>4</th>\n",
       "      <td>(A) WINNING COLLIERY, MINEWATER</td>\n",
       "      <td>2018-06-29T12:00:00</td>\n",
       "      <td>443700.0</td>\n",
       "      <td>357600.0</td>\n",
       "      <td>NaN</td>\n",
       "    </tr>\n",
       "    <tr>\n",
       "      <th>...</th>\n",
       "      <td>...</td>\n",
       "      <td>...</td>\n",
       "      <td>...</td>\n",
       "      <td>...</td>\n",
       "      <td>...</td>\n",
       "    </tr>\n",
       "    <tr>\n",
       "      <th>825690</th>\n",
       "      <td>ZWETSLOOTS, GREAT NORTH ROAD SANDY</td>\n",
       "      <td>2021-10-11T10:49:00</td>\n",
       "      <td>516060.0</td>\n",
       "      <td>252030.0</td>\n",
       "      <td>7.800</td>\n",
       "    </tr>\n",
       "    <tr>\n",
       "      <th>825691</th>\n",
       "      <td>ZWETSLOOTS, GREAT NORTH ROAD SANDY</td>\n",
       "      <td>2022-01-04T11:00:00</td>\n",
       "      <td>516060.0</td>\n",
       "      <td>252030.0</td>\n",
       "      <td>3.300</td>\n",
       "    </tr>\n",
       "    <tr>\n",
       "      <th>825692</th>\n",
       "      <td>ZWETSLOOTS, GREAT NORTH ROAD SANDY</td>\n",
       "      <td>2022-04-21T11:07:00</td>\n",
       "      <td>516060.0</td>\n",
       "      <td>252030.0</td>\n",
       "      <td>28.000</td>\n",
       "    </tr>\n",
       "    <tr>\n",
       "      <th>825693</th>\n",
       "      <td>ZWETSLOOTS, GREAT NORTH ROAD SANDY</td>\n",
       "      <td>2022-07-06T14:39:00</td>\n",
       "      <td>516060.0</td>\n",
       "      <td>252030.0</td>\n",
       "      <td>NaN</td>\n",
       "    </tr>\n",
       "    <tr>\n",
       "      <th>825694</th>\n",
       "      <td>ZWETSLOOTS, GREAT NORTH ROAD SANDY</td>\n",
       "      <td>2022-10-06T09:01:00</td>\n",
       "      <td>516060.0</td>\n",
       "      <td>252030.0</td>\n",
       "      <td>12.000</td>\n",
       "    </tr>\n",
       "  </tbody>\n",
       "</table>\n",
       "<p>825695 rows × 5 columns</p>\n",
       "</div>"
      ],
      "text/plain": [
       "determinand.label          sample.samplingPoint.label sample.sampleDateTime  \\\n",
       "0                     (A) WINNING COLLIERY, MINEWATER   2016-10-27T13:00:00   \n",
       "1                     (A) WINNING COLLIERY, MINEWATER   2018-05-22T13:53:00   \n",
       "2                     (A) WINNING COLLIERY, MINEWATER   2018-06-22T13:50:00   \n",
       "3                     (A) WINNING COLLIERY, MINEWATER   2018-06-25T10:45:00   \n",
       "4                     (A) WINNING COLLIERY, MINEWATER   2018-06-29T12:00:00   \n",
       "...                                               ...                   ...   \n",
       "825690             ZWETSLOOTS, GREAT NORTH ROAD SANDY   2021-10-11T10:49:00   \n",
       "825691             ZWETSLOOTS, GREAT NORTH ROAD SANDY   2022-01-04T11:00:00   \n",
       "825692             ZWETSLOOTS, GREAT NORTH ROAD SANDY   2022-04-21T11:07:00   \n",
       "825693             ZWETSLOOTS, GREAT NORTH ROAD SANDY   2022-07-06T14:39:00   \n",
       "825694             ZWETSLOOTS, GREAT NORTH ROAD SANDY   2022-10-06T09:01:00   \n",
       "\n",
       "determinand.label  sample.samplingPoint.easting  \\\n",
       "0                                      443700.0   \n",
       "1                                      443700.0   \n",
       "2                                      443700.0   \n",
       "3                                      443700.0   \n",
       "4                                      443700.0   \n",
       "...                                         ...   \n",
       "825690                                 516060.0   \n",
       "825691                                 516060.0   \n",
       "825692                                 516060.0   \n",
       "825693                                 516060.0   \n",
       "825694                                 516060.0   \n",
       "\n",
       "determinand.label  sample.samplingPoint.northing  Ammonia(N)  \n",
       "0                                       357600.0       0.772  \n",
       "1                                       357600.0         NaN  \n",
       "2                                       357600.0         NaN  \n",
       "3                                       357600.0         NaN  \n",
       "4                                       357600.0         NaN  \n",
       "...                                          ...         ...  \n",
       "825690                                  252030.0       7.800  \n",
       "825691                                  252030.0       3.300  \n",
       "825692                                  252030.0      28.000  \n",
       "825693                                  252030.0         NaN  \n",
       "825694                                  252030.0      12.000  \n",
       "\n",
       "[825695 rows x 5 columns]"
      ]
     },
     "execution_count": 16,
     "metadata": {},
     "output_type": "execute_result"
    }
   ],
   "source": [
    "df_wide_index"
   ]
  },
  {
   "cell_type": "code",
   "execution_count": 17,
   "metadata": {},
   "outputs": [],
   "source": [
    "#drop columns that are not used in the study as decided by researcher based on literatures\n",
    "df_wide_index = df_wide_index.drop(columns=['sample.samplingPoint.easting','sample.samplingPoint.northing','sample.samplingPoint.label'])"
   ]
  },
  {
   "cell_type": "code",
   "execution_count": 18,
   "metadata": {},
   "outputs": [
    {
     "data": {
      "text/html": [
       "<div>\n",
       "<style scoped>\n",
       "    .dataframe tbody tr th:only-of-type {\n",
       "        vertical-align: middle;\n",
       "    }\n",
       "\n",
       "    .dataframe tbody tr th {\n",
       "        vertical-align: top;\n",
       "    }\n",
       "\n",
       "    .dataframe thead th {\n",
       "        text-align: right;\n",
       "    }\n",
       "</style>\n",
       "<table border=\"1\" class=\"dataframe\">\n",
       "  <thead>\n",
       "    <tr style=\"text-align: right;\">\n",
       "      <th>determinand.label</th>\n",
       "      <th>sample.sampleDateTime</th>\n",
       "      <th>Ammonia(N)</th>\n",
       "    </tr>\n",
       "  </thead>\n",
       "  <tbody>\n",
       "    <tr>\n",
       "      <th>0</th>\n",
       "      <td>2016-10-27T13:00:00</td>\n",
       "      <td>0.772</td>\n",
       "    </tr>\n",
       "    <tr>\n",
       "      <th>1</th>\n",
       "      <td>2018-05-22T13:53:00</td>\n",
       "      <td>NaN</td>\n",
       "    </tr>\n",
       "    <tr>\n",
       "      <th>2</th>\n",
       "      <td>2018-06-22T13:50:00</td>\n",
       "      <td>NaN</td>\n",
       "    </tr>\n",
       "    <tr>\n",
       "      <th>3</th>\n",
       "      <td>2018-06-25T10:45:00</td>\n",
       "      <td>NaN</td>\n",
       "    </tr>\n",
       "    <tr>\n",
       "      <th>4</th>\n",
       "      <td>2018-06-29T12:00:00</td>\n",
       "      <td>NaN</td>\n",
       "    </tr>\n",
       "    <tr>\n",
       "      <th>...</th>\n",
       "      <td>...</td>\n",
       "      <td>...</td>\n",
       "    </tr>\n",
       "    <tr>\n",
       "      <th>825690</th>\n",
       "      <td>2021-10-11T10:49:00</td>\n",
       "      <td>7.800</td>\n",
       "    </tr>\n",
       "    <tr>\n",
       "      <th>825691</th>\n",
       "      <td>2022-01-04T11:00:00</td>\n",
       "      <td>3.300</td>\n",
       "    </tr>\n",
       "    <tr>\n",
       "      <th>825692</th>\n",
       "      <td>2022-04-21T11:07:00</td>\n",
       "      <td>28.000</td>\n",
       "    </tr>\n",
       "    <tr>\n",
       "      <th>825693</th>\n",
       "      <td>2022-07-06T14:39:00</td>\n",
       "      <td>NaN</td>\n",
       "    </tr>\n",
       "    <tr>\n",
       "      <th>825694</th>\n",
       "      <td>2022-10-06T09:01:00</td>\n",
       "      <td>12.000</td>\n",
       "    </tr>\n",
       "  </tbody>\n",
       "</table>\n",
       "<p>825695 rows × 2 columns</p>\n",
       "</div>"
      ],
      "text/plain": [
       "determinand.label sample.sampleDateTime  Ammonia(N)\n",
       "0                   2016-10-27T13:00:00       0.772\n",
       "1                   2018-05-22T13:53:00         NaN\n",
       "2                   2018-06-22T13:50:00         NaN\n",
       "3                   2018-06-25T10:45:00         NaN\n",
       "4                   2018-06-29T12:00:00         NaN\n",
       "...                                 ...         ...\n",
       "825690              2021-10-11T10:49:00       7.800\n",
       "825691              2022-01-04T11:00:00       3.300\n",
       "825692              2022-04-21T11:07:00      28.000\n",
       "825693              2022-07-06T14:39:00         NaN\n",
       "825694              2022-10-06T09:01:00      12.000\n",
       "\n",
       "[825695 rows x 2 columns]"
      ]
     },
     "execution_count": 18,
     "metadata": {},
     "output_type": "execute_result"
    }
   ],
   "source": [
    "df_wide_index"
   ]
  },
  {
   "cell_type": "code",
   "execution_count": 30,
   "metadata": {},
   "outputs": [],
   "source": [
    "#rename columns to readable names\n",
    "\n",
    "df_renamed = df_wide_index.rename(\n",
    "    columns={\n",
    "       \n",
    "        'sample.sampleDateTime': 'Date',\n",
    "        'Ammonia(N)':'Ammonia'\n",
    "              \n",
    "    })\n"
   ]
  },
  {
   "cell_type": "markdown",
   "metadata": {},
   "source": [
    "#### NOTE\n",
    "Run the cell below only once and continue working with the clean csv file"
   ]
  },
  {
   "cell_type": "code",
   "execution_count": 31,
   "metadata": {},
   "outputs": [],
   "source": [
    "#Write the dataframe to a CSV file\n",
    "df_renamed.to_csv('Level_dataset.csv', index=False)"
   ]
  },
  {
   "cell_type": "markdown",
   "metadata": {},
   "source": [
    "## Data analysis and visualization"
   ]
  },
  {
   "cell_type": "code",
   "execution_count": 32,
   "metadata": {},
   "outputs": [],
   "source": [
    "#read clean csv to a new dataframe df\n",
    "df = pd.read_csv('Level_dataset.csv', encoding='utf-8', engine='python')"
   ]
  },
  {
   "cell_type": "code",
   "execution_count": 33,
   "metadata": {},
   "outputs": [],
   "source": [
    "df['Date'] = pd.to_datetime(df['Date']) \n",
    "#change date column format to date format"
   ]
  },
  {
   "cell_type": "code",
   "execution_count": 34,
   "metadata": {},
   "outputs": [
    {
     "data": {
      "text/html": [
       "<div>\n",
       "<style scoped>\n",
       "    .dataframe tbody tr th:only-of-type {\n",
       "        vertical-align: middle;\n",
       "    }\n",
       "\n",
       "    .dataframe tbody tr th {\n",
       "        vertical-align: top;\n",
       "    }\n",
       "\n",
       "    .dataframe thead th {\n",
       "        text-align: right;\n",
       "    }\n",
       "</style>\n",
       "<table border=\"1\" class=\"dataframe\">\n",
       "  <thead>\n",
       "    <tr style=\"text-align: right;\">\n",
       "      <th></th>\n",
       "      <th>Date</th>\n",
       "      <th>Ammonia</th>\n",
       "    </tr>\n",
       "  </thead>\n",
       "  <tbody>\n",
       "    <tr>\n",
       "      <th>0</th>\n",
       "      <td>2016-10-27 13:00:00</td>\n",
       "      <td>0.772</td>\n",
       "    </tr>\n",
       "    <tr>\n",
       "      <th>1</th>\n",
       "      <td>2018-05-22 13:53:00</td>\n",
       "      <td>NaN</td>\n",
       "    </tr>\n",
       "    <tr>\n",
       "      <th>2</th>\n",
       "      <td>2018-06-22 13:50:00</td>\n",
       "      <td>NaN</td>\n",
       "    </tr>\n",
       "    <tr>\n",
       "      <th>3</th>\n",
       "      <td>2018-06-25 10:45:00</td>\n",
       "      <td>NaN</td>\n",
       "    </tr>\n",
       "    <tr>\n",
       "      <th>4</th>\n",
       "      <td>2018-06-29 12:00:00</td>\n",
       "      <td>NaN</td>\n",
       "    </tr>\n",
       "    <tr>\n",
       "      <th>...</th>\n",
       "      <td>...</td>\n",
       "      <td>...</td>\n",
       "    </tr>\n",
       "    <tr>\n",
       "      <th>825690</th>\n",
       "      <td>2021-10-11 10:49:00</td>\n",
       "      <td>7.800</td>\n",
       "    </tr>\n",
       "    <tr>\n",
       "      <th>825691</th>\n",
       "      <td>2022-01-04 11:00:00</td>\n",
       "      <td>3.300</td>\n",
       "    </tr>\n",
       "    <tr>\n",
       "      <th>825692</th>\n",
       "      <td>2022-04-21 11:07:00</td>\n",
       "      <td>28.000</td>\n",
       "    </tr>\n",
       "    <tr>\n",
       "      <th>825693</th>\n",
       "      <td>2022-07-06 14:39:00</td>\n",
       "      <td>NaN</td>\n",
       "    </tr>\n",
       "    <tr>\n",
       "      <th>825694</th>\n",
       "      <td>2022-10-06 09:01:00</td>\n",
       "      <td>12.000</td>\n",
       "    </tr>\n",
       "  </tbody>\n",
       "</table>\n",
       "<p>825695 rows × 2 columns</p>\n",
       "</div>"
      ],
      "text/plain": [
       "                      Date  Ammonia\n",
       "0      2016-10-27 13:00:00    0.772\n",
       "1      2018-05-22 13:53:00      NaN\n",
       "2      2018-06-22 13:50:00      NaN\n",
       "3      2018-06-25 10:45:00      NaN\n",
       "4      2018-06-29 12:00:00      NaN\n",
       "...                    ...      ...\n",
       "825690 2021-10-11 10:49:00    7.800\n",
       "825691 2022-01-04 11:00:00    3.300\n",
       "825692 2022-04-21 11:07:00   28.000\n",
       "825693 2022-07-06 14:39:00      NaN\n",
       "825694 2022-10-06 09:01:00   12.000\n",
       "\n",
       "[825695 rows x 2 columns]"
      ]
     },
     "execution_count": 34,
     "metadata": {},
     "output_type": "execute_result"
    }
   ],
   "source": [
    "df"
   ]
  },
  {
   "cell_type": "code",
   "execution_count": 35,
   "metadata": {},
   "outputs": [],
   "source": [
    "df = df.dropna()"
   ]
  },
  {
   "cell_type": "code",
   "execution_count": 50,
   "metadata": {},
   "outputs": [],
   "source": [
    "df = df.set_index('Date', drop = True)"
   ]
  },
  {
   "cell_type": "code",
   "execution_count": 98,
   "metadata": {},
   "outputs": [
    {
     "data": {
      "text/html": [
       "<div>\n",
       "<style scoped>\n",
       "    .dataframe tbody tr th:only-of-type {\n",
       "        vertical-align: middle;\n",
       "    }\n",
       "\n",
       "    .dataframe tbody tr th {\n",
       "        vertical-align: top;\n",
       "    }\n",
       "\n",
       "    .dataframe thead th {\n",
       "        text-align: right;\n",
       "    }\n",
       "</style>\n",
       "<table border=\"1\" class=\"dataframe\">\n",
       "  <thead>\n",
       "    <tr style=\"text-align: right;\">\n",
       "      <th></th>\n",
       "      <th>Ammonia</th>\n",
       "    </tr>\n",
       "    <tr>\n",
       "      <th>Date</th>\n",
       "      <th></th>\n",
       "    </tr>\n",
       "  </thead>\n",
       "  <tbody>\n",
       "    <tr>\n",
       "      <th>2016-10-27 13:00:00</th>\n",
       "      <td>0.772</td>\n",
       "    </tr>\n",
       "    <tr>\n",
       "      <th>2018-07-16 09:42:00</th>\n",
       "      <td>0.499</td>\n",
       "    </tr>\n",
       "    <tr>\n",
       "      <th>2018-08-03 11:22:00</th>\n",
       "      <td>0.382</td>\n",
       "    </tr>\n",
       "    <tr>\n",
       "      <th>2018-09-14 12:35:00</th>\n",
       "      <td>0.197</td>\n",
       "    </tr>\n",
       "    <tr>\n",
       "      <th>2018-10-23 10:21:00</th>\n",
       "      <td>0.631</td>\n",
       "    </tr>\n",
       "    <tr>\n",
       "      <th>...</th>\n",
       "      <td>...</td>\n",
       "    </tr>\n",
       "    <tr>\n",
       "      <th>2019-07-05 10:14:00</th>\n",
       "      <td>0.760</td>\n",
       "    </tr>\n",
       "    <tr>\n",
       "      <th>2021-07-07 09:50:00</th>\n",
       "      <td>1.600</td>\n",
       "    </tr>\n",
       "    <tr>\n",
       "      <th>2012-02-01 11:30:00</th>\n",
       "      <td>9.230</td>\n",
       "    </tr>\n",
       "    <tr>\n",
       "      <th>2022-07-08 12:05:00</th>\n",
       "      <td>25.000</td>\n",
       "    </tr>\n",
       "    <tr>\n",
       "      <th>2020-01-10 10:26:00</th>\n",
       "      <td>8.800</td>\n",
       "    </tr>\n",
       "  </tbody>\n",
       "</table>\n",
       "<p>100 rows × 1 columns</p>\n",
       "</div>"
      ],
      "text/plain": [
       "                     Ammonia\n",
       "Date                        \n",
       "2016-10-27 13:00:00    0.772\n",
       "2018-07-16 09:42:00    0.499\n",
       "2018-08-03 11:22:00    0.382\n",
       "2018-09-14 12:35:00    0.197\n",
       "2018-10-23 10:21:00    0.631\n",
       "...                      ...\n",
       "2019-07-05 10:14:00    0.760\n",
       "2021-07-07 09:50:00    1.600\n",
       "2012-02-01 11:30:00    9.230\n",
       "2022-07-08 12:05:00   25.000\n",
       "2020-01-10 10:26:00    8.800\n",
       "\n",
       "[100 rows x 1 columns]"
      ]
     },
     "execution_count": 98,
     "metadata": {},
     "output_type": "execute_result"
    }
   ],
   "source": [
    "df.head(100)"
   ]
  },
  {
   "cell_type": "code",
   "execution_count": 99,
   "metadata": {},
   "outputs": [
    {
     "data": {
      "text/plain": [
       "<AxesSubplot: xlabel='Date'>"
      ]
     },
     "execution_count": 99,
     "metadata": {},
     "output_type": "execute_result"
    },
    {
     "data": {
      "image/png": "[encoded data removed]",
      "text/plain": [
       "<Figure size 1100x900 with 1 Axes>"
      ]
     },
     "metadata": {},
     "output_type": "display_data"
    }
   ],
   "source": [
    "df.tail(100).plot()"
   ]
  },
  {
   "cell_type": "code",
   "execution_count": 96,
   "metadata": {},
   "outputs": [
    {
     "name": "stdout",
     "output_type": "stream",
     "text": [
      "Collecting statsmodels\n",
      "  Downloading statsmodels-0.14.0-cp38-cp38-manylinux_2_17_x86_64.manylinux2014_x86_64.whl (10.2 MB)\n",
      "\u001b[K     |████████████████████████████████| 10.2 MB 7.1 MB/s eta 0:00:01\n",
      "\u001b[?25hRequirement already satisfied, skipping upgrade: scipy!=1.9.2,>=1.4 in /usr/local/lib/python3.8/dist-packages (from statsmodels) (1.9.3)\n",
      "Collecting patsy>=0.5.2\n",
      "  Downloading patsy-0.5.3-py2.py3-none-any.whl (233 kB)\n",
      "\u001b[K     |████████████████████████████████| 233 kB 64.1 MB/s eta 0:00:01\n",
      "\u001b[?25hRequirement already satisfied, skipping upgrade: numpy>=1.18 in /usr/local/lib/python3.8/dist-packages (from statsmodels) (1.23.4)\n",
      "Requirement already satisfied, skipping upgrade: pandas>=1.0 in /usr/local/lib/python3.8/dist-packages (from statsmodels) (1.5.1)\n",
      "Requirement already satisfied, skipping upgrade: packaging>=21.3 in /usr/local/lib/python3.8/dist-packages (from statsmodels) (21.3)\n",
      "Requirement already satisfied, skipping upgrade: six in /usr/lib/python3/dist-packages (from patsy>=0.5.2->statsmodels) (1.14.0)\n",
      "Requirement already satisfied, skipping upgrade: python-dateutil>=2.8.1 in /usr/local/lib/python3.8/dist-packages (from pandas>=1.0->statsmodels) (2.8.2)\n",
      "Requirement already satisfied, skipping upgrade: pytz>=2020.1 in /usr/local/lib/python3.8/dist-packages (from pandas>=1.0->statsmodels) (2022.5)\n",
      "Requirement already satisfied, skipping upgrade: pyparsing!=3.0.5,>=2.0.2 in /usr/local/lib/python3.8/dist-packages (from packaging>=21.3->statsmodels) (3.0.9)\n",
      "\u001b[31mERROR: pymc3 3.11.5 has requirement numpy<1.22.2,>=1.15.0, but you'll have numpy 1.23.4 which is incompatible.\u001b[0m\n",
      "\u001b[31mERROR: pymc3 3.11.5 has requirement scipy<1.8.0,>=1.7.3, but you'll have scipy 1.9.3 which is incompatible.\u001b[0m\n",
      "Installing collected packages: patsy, statsmodels\n",
      "Successfully installed patsy-0.5.3 statsmodels-0.14.0\n"
     ]
    }
   ],
   "source": [
    "!pip install statsmodels --upgrade"
   ]
  },
  {
   "cell_type": "code",
   "execution_count": 97,
   "metadata": {},
   "outputs": [
    {
     "ename": "ImportError",
     "evalue": "cannot import name '_centered' from 'scipy.signal.signaltools' (/usr/local/lib/python3.8/dist-packages/scipy/signal/signaltools.py)",
     "output_type": "error",
     "traceback": [
      "\u001b[0;31m---------------------------------------------------------------------------\u001b[0m",
      "\u001b[0;31mImportError\u001b[0m                               Traceback (most recent call last)",
      "Cell \u001b[0;32mIn [97], line 14\u001b[0m\n\u001b[1;32m     12\u001b[0m \u001b[38;5;28;01mfrom\u001b[39;00m \u001b[38;5;21;01msklearn\u001b[39;00m\u001b[38;5;21;01m.\u001b[39;00m\u001b[38;5;21;01mpreprocessing\u001b[39;00m \u001b[38;5;28;01mimport\u001b[39;00m MinMaxScaler\n\u001b[1;32m     13\u001b[0m \u001b[38;5;28;01mfrom\u001b[39;00m \u001b[38;5;21;01mstatsmodels\u001b[39;00m\u001b[38;5;21;01m.\u001b[39;00m\u001b[38;5;21;01mtsa\u001b[39;00m\u001b[38;5;21;01m.\u001b[39;00m\u001b[38;5;21;01mstattools\u001b[39;00m \u001b[38;5;28;01mimport\u001b[39;00m adfuller\n\u001b[0;32m---> 14\u001b[0m \u001b[38;5;28;01mimport\u001b[39;00m \u001b[38;5;21;01mstatsmodels\u001b[39;00m\u001b[38;5;21;01m.\u001b[39;00m\u001b[38;5;21;01mapi\u001b[39;00m \u001b[38;5;28;01mas\u001b[39;00m \u001b[38;5;21;01msm\u001b[39;00m\n\u001b[1;32m     16\u001b[0m get_ipython()\u001b[38;5;241m.\u001b[39mrun_line_magic(\u001b[38;5;124m'\u001b[39m\u001b[38;5;124mconfig\u001b[39m\u001b[38;5;124m'\u001b[39m, \u001b[38;5;124m'\u001b[39m\u001b[38;5;124mCompleter.use_jedi = False\u001b[39m\u001b[38;5;124m'\u001b[39m)\n\u001b[1;32m     17\u001b[0m \u001b[38;5;28;01mfrom\u001b[39;00m \u001b[38;5;21;01msklearn\u001b[39;00m\u001b[38;5;21;01m.\u001b[39;00m\u001b[38;5;21;01mmetrics\u001b[39;00m \u001b[38;5;28;01mimport\u001b[39;00m mean_absolute_error, mean_absolute_percentage_error\n",
      "File \u001b[0;32m/usr/lib/python3/dist-packages/statsmodels/api.py:27\u001b[0m\n\u001b[1;32m     20\u001b[0m \u001b[38;5;28;01mfrom\u001b[39;00m \u001b[38;5;21;01m.\u001b[39;00m\u001b[38;5;21;01mdiscrete\u001b[39;00m\u001b[38;5;21;01m.\u001b[39;00m\u001b[38;5;21;01mdiscrete_model\u001b[39;00m \u001b[38;5;28;01mimport\u001b[39;00m (Poisson, Logit, Probit,\n\u001b[1;32m     21\u001b[0m                                       MNLogit, NegativeBinomial,\n\u001b[1;32m     22\u001b[0m                                       GeneralizedPoisson,\n\u001b[1;32m     23\u001b[0m                                       NegativeBinomialP)\n\u001b[1;32m     24\u001b[0m \u001b[38;5;28;01mfrom\u001b[39;00m \u001b[38;5;21;01m.\u001b[39;00m\u001b[38;5;21;01mdiscrete\u001b[39;00m\u001b[38;5;21;01m.\u001b[39;00m\u001b[38;5;21;01mcount_model\u001b[39;00m \u001b[38;5;28;01mimport\u001b[39;00m (ZeroInflatedPoisson,\n\u001b[1;32m     25\u001b[0m                                    ZeroInflatedGeneralizedPoisson,\n\u001b[1;32m     26\u001b[0m                                    ZeroInflatedNegativeBinomialP)\n\u001b[0;32m---> 27\u001b[0m \u001b[38;5;28;01mfrom\u001b[39;00m \u001b[38;5;21;01m.\u001b[39;00m\u001b[38;5;21;01mtsa\u001b[39;00m \u001b[38;5;28;01mimport\u001b[39;00m api \u001b[38;5;28;01mas\u001b[39;00m tsa\n\u001b[1;32m     28\u001b[0m \u001b[38;5;28;01mfrom\u001b[39;00m \u001b[38;5;21;01m.\u001b[39;00m\u001b[38;5;21;01mduration\u001b[39;00m\u001b[38;5;21;01m.\u001b[39;00m\u001b[38;5;21;01msurvfunc\u001b[39;00m \u001b[38;5;28;01mimport\u001b[39;00m SurvfuncRight\n\u001b[1;32m     29\u001b[0m \u001b[38;5;28;01mfrom\u001b[39;00m \u001b[38;5;21;01m.\u001b[39;00m\u001b[38;5;21;01mduration\u001b[39;00m\u001b[38;5;21;01m.\u001b[39;00m\u001b[38;5;21;01mhazard_regression\u001b[39;00m \u001b[38;5;28;01mimport\u001b[39;00m PHReg\n",
      "File \u001b[0;32m/usr/lib/python3/dist-packages/statsmodels/tsa/api.py:31\u001b[0m\n\u001b[1;32m     29\u001b[0m \u001b[38;5;28;01mfrom\u001b[39;00m \u001b[38;5;21;01m.\u001b[39;00m\u001b[38;5;21;01mvector_ar\u001b[39;00m\u001b[38;5;21;01m.\u001b[39;00m\u001b[38;5;21;01mvecm\u001b[39;00m \u001b[38;5;28;01mimport\u001b[39;00m VECM\n\u001b[1;32m     30\u001b[0m \u001b[38;5;28;01mfrom\u001b[39;00m \u001b[38;5;21;01m.\u001b[39;00m\u001b[38;5;21;01mvector_ar\u001b[39;00m\u001b[38;5;21;01m.\u001b[39;00m\u001b[38;5;21;01msvar_model\u001b[39;00m \u001b[38;5;28;01mimport\u001b[39;00m SVAR\n\u001b[0;32m---> 31\u001b[0m \u001b[38;5;28;01mfrom\u001b[39;00m \u001b[38;5;21;01m.\u001b[39;00m\u001b[38;5;21;01mfilters\u001b[39;00m \u001b[38;5;28;01mimport\u001b[39;00m api \u001b[38;5;28;01mas\u001b[39;00m filters\n\u001b[1;32m     32\u001b[0m \u001b[38;5;28;01mfrom\u001b[39;00m \u001b[38;5;21;01m.\u001b[39;00m \u001b[38;5;28;01mimport\u001b[39;00m tsatools\n\u001b[1;32m     33\u001b[0m \u001b[38;5;28;01mfrom\u001b[39;00m \u001b[38;5;21;01m.\u001b[39;00m\u001b[38;5;21;01mtsatools\u001b[39;00m \u001b[38;5;28;01mimport\u001b[39;00m (add_trend, detrend, lagmat, lagmat2ds, add_lag)\n",
      "File \u001b[0;32m/usr/lib/python3/dist-packages/statsmodels/tsa/filters/api.py:6\u001b[0m\n\u001b[1;32m      4\u001b[0m \u001b[38;5;28;01mfrom\u001b[39;00m \u001b[38;5;21;01m.\u001b[39;00m\u001b[38;5;21;01mhp_filter\u001b[39;00m \u001b[38;5;28;01mimport\u001b[39;00m hpfilter\n\u001b[1;32m      5\u001b[0m \u001b[38;5;28;01mfrom\u001b[39;00m \u001b[38;5;21;01m.\u001b[39;00m\u001b[38;5;21;01mcf_filter\u001b[39;00m \u001b[38;5;28;01mimport\u001b[39;00m cffilter\n\u001b[0;32m----> 6\u001b[0m \u001b[38;5;28;01mfrom\u001b[39;00m \u001b[38;5;21;01m.\u001b[39;00m\u001b[38;5;21;01mfiltertools\u001b[39;00m \u001b[38;5;28;01mimport\u001b[39;00m miso_lfilter, convolution_filter, recursive_filter\n",
      "File \u001b[0;32m/usr/lib/python3/dist-packages/statsmodels/tsa/filters/filtertools.py:18\u001b[0m\n\u001b[1;32m     16\u001b[0m \u001b[38;5;28;01mimport\u001b[39;00m \u001b[38;5;21;01mscipy\u001b[39;00m\u001b[38;5;21;01m.\u001b[39;00m\u001b[38;5;21;01mfftpack\u001b[39;00m \u001b[38;5;28;01mas\u001b[39;00m \u001b[38;5;21;01mfft\u001b[39;00m\n\u001b[1;32m     17\u001b[0m \u001b[38;5;28;01mfrom\u001b[39;00m \u001b[38;5;21;01mscipy\u001b[39;00m \u001b[38;5;28;01mimport\u001b[39;00m signal\n\u001b[0;32m---> 18\u001b[0m \u001b[38;5;28;01mfrom\u001b[39;00m \u001b[38;5;21;01mscipy\u001b[39;00m\u001b[38;5;21;01m.\u001b[39;00m\u001b[38;5;21;01msignal\u001b[39;00m\u001b[38;5;21;01m.\u001b[39;00m\u001b[38;5;21;01msignaltools\u001b[39;00m \u001b[38;5;28;01mimport\u001b[39;00m _centered \u001b[38;5;28;01mas\u001b[39;00m trim_centered\n\u001b[1;32m     20\u001b[0m \u001b[38;5;28;01mfrom\u001b[39;00m \u001b[38;5;21;01mstatsmodels\u001b[39;00m\u001b[38;5;21;01m.\u001b[39;00m\u001b[38;5;21;01mtools\u001b[39;00m\u001b[38;5;21;01m.\u001b[39;00m\u001b[38;5;21;01mvalidation\u001b[39;00m \u001b[38;5;28;01mimport\u001b[39;00m array_like, PandasWrapper\n\u001b[1;32m     22\u001b[0m \u001b[38;5;28;01mdef\u001b[39;00m \u001b[38;5;21m_pad_nans\u001b[39m(x, head\u001b[38;5;241m=\u001b[39m\u001b[38;5;28;01mNone\u001b[39;00m, tail\u001b[38;5;241m=\u001b[39m\u001b[38;5;28;01mNone\u001b[39;00m):\n",
      "\u001b[0;31mImportError\u001b[0m: cannot import name '_centered' from 'scipy.signal.signaltools' (/usr/local/lib/python3.8/dist-packages/scipy/signal/signaltools.py)"
     ]
    }
   ],
   "source": [
    "\n",
    "import numpy as np\n",
    "import pandas as pd\n",
    "import matplotlib.pyplot as plt\n",
    "from pylab import rcParams\n",
    "\n",
    "from keras.models import Sequential\n",
    "from keras.layers import LSTM\n",
    "from keras.layers import Dense\n",
    "\n",
    "from keras.preprocessing.sequence import TimeseriesGenerator\n",
    "\n",
    "from sklearn.preprocessing import MinMaxScaler\n",
    "from statsmodels.tsa.stattools import adfuller\n",
    "import statsmodels.api as sm\n",
    "\n",
    "%config Completer.use_jedi = False\n",
    "from sklearn.metrics import mean_absolute_error, mean_absolute_percentage_error"
   ]
  },
  {
   "cell_type": "code",
   "execution_count": 85,
   "metadata": {},
   "outputs": [
    {
     "data": {
      "text/html": [
       "<div>\n",
       "<style scoped>\n",
       "    .dataframe tbody tr th:only-of-type {\n",
       "        vertical-align: middle;\n",
       "    }\n",
       "\n",
       "    .dataframe tbody tr th {\n",
       "        vertical-align: top;\n",
       "    }\n",
       "\n",
       "    .dataframe thead th {\n",
       "        text-align: right;\n",
       "    }\n",
       "</style>\n",
       "<table border=\"1\" class=\"dataframe\">\n",
       "  <thead>\n",
       "    <tr style=\"text-align: right;\">\n",
       "      <th></th>\n",
       "      <th>Ammonia</th>\n",
       "    </tr>\n",
       "    <tr>\n",
       "      <th>Date</th>\n",
       "      <th></th>\n",
       "    </tr>\n",
       "  </thead>\n",
       "  <tbody>\n",
       "    <tr>\n",
       "      <th>2021-07-08 12:05:00</th>\n",
       "      <td>11.0</td>\n",
       "    </tr>\n",
       "    <tr>\n",
       "      <th>2021-10-11 10:49:00</th>\n",
       "      <td>7.8</td>\n",
       "    </tr>\n",
       "    <tr>\n",
       "      <th>2022-01-04 11:00:00</th>\n",
       "      <td>3.3</td>\n",
       "    </tr>\n",
       "    <tr>\n",
       "      <th>2022-04-21 11:07:00</th>\n",
       "      <td>28.0</td>\n",
       "    </tr>\n",
       "    <tr>\n",
       "      <th>2022-10-06 09:01:00</th>\n",
       "      <td>12.0</td>\n",
       "    </tr>\n",
       "  </tbody>\n",
       "</table>\n",
       "</div>"
      ],
      "text/plain": [
       "                     Ammonia\n",
       "Date                        \n",
       "2021-07-08 12:05:00     11.0\n",
       "2021-10-11 10:49:00      7.8\n",
       "2022-01-04 11:00:00      3.3\n",
       "2022-04-21 11:07:00     28.0\n",
       "2022-10-06 09:01:00     12.0"
      ]
     },
     "execution_count": 85,
     "metadata": {},
     "output_type": "execute_result"
    }
   ],
   "source": [
    "df.tail()"
   ]
  },
  {
   "cell_type": "code",
   "execution_count": 87,
   "metadata": {},
   "outputs": [
    {
     "name": "stderr",
     "output_type": "stream",
     "text": [
      "/tmp/ipykernel_17487/857585120.py:3: FutureWarning: Value based partial slicing on non-monotonic DatetimeIndexes with non-existing keys is deprecated and will raise a KeyError in a future Version.\n",
      "  datasetTest = df['2020-07-01':]\n"
     ]
    }
   ],
   "source": [
    "datasetTrain = df[:'2020-06-30']\n",
    "\n",
    "datasetTest = df['2020-07-01':]"
   ]
  },
  {
   "cell_type": "code",
   "execution_count": 89,
   "metadata": {},
   "outputs": [
    {
     "data": {
      "text/html": [
       "<div>\n",
       "<style scoped>\n",
       "    .dataframe tbody tr th:only-of-type {\n",
       "        vertical-align: middle;\n",
       "    }\n",
       "\n",
       "    .dataframe tbody tr th {\n",
       "        vertical-align: top;\n",
       "    }\n",
       "\n",
       "    .dataframe thead th {\n",
       "        text-align: right;\n",
       "    }\n",
       "</style>\n",
       "<table border=\"1\" class=\"dataframe\">\n",
       "  <thead>\n",
       "    <tr style=\"text-align: right;\">\n",
       "      <th></th>\n",
       "      <th>Ammonia</th>\n",
       "    </tr>\n",
       "    <tr>\n",
       "      <th>Date</th>\n",
       "      <th></th>\n",
       "    </tr>\n",
       "  </thead>\n",
       "  <tbody>\n",
       "    <tr>\n",
       "      <th>2020-11-17 11:23:00</th>\n",
       "      <td>1.7</td>\n",
       "    </tr>\n",
       "    <tr>\n",
       "      <th>2020-12-17 14:49:00</th>\n",
       "      <td>2.0</td>\n",
       "    </tr>\n",
       "    <tr>\n",
       "      <th>2021-01-07 12:35:00</th>\n",
       "      <td>2.2</td>\n",
       "    </tr>\n",
       "    <tr>\n",
       "      <th>2021-02-25 10:25:00</th>\n",
       "      <td>1.6</td>\n",
       "    </tr>\n",
       "    <tr>\n",
       "      <th>2021-03-16 12:50:00</th>\n",
       "      <td>2.3</td>\n",
       "    </tr>\n",
       "    <tr>\n",
       "      <th>...</th>\n",
       "      <td>...</td>\n",
       "    </tr>\n",
       "    <tr>\n",
       "      <th>2021-07-08 12:05:00</th>\n",
       "      <td>11.0</td>\n",
       "    </tr>\n",
       "    <tr>\n",
       "      <th>2021-10-11 10:49:00</th>\n",
       "      <td>7.8</td>\n",
       "    </tr>\n",
       "    <tr>\n",
       "      <th>2022-01-04 11:00:00</th>\n",
       "      <td>3.3</td>\n",
       "    </tr>\n",
       "    <tr>\n",
       "      <th>2022-04-21 11:07:00</th>\n",
       "      <td>28.0</td>\n",
       "    </tr>\n",
       "    <tr>\n",
       "      <th>2022-10-06 09:01:00</th>\n",
       "      <td>12.0</td>\n",
       "    </tr>\n",
       "  </tbody>\n",
       "</table>\n",
       "<p>128792 rows × 1 columns</p>\n",
       "</div>"
      ],
      "text/plain": [
       "                     Ammonia\n",
       "Date                        \n",
       "2020-11-17 11:23:00      1.7\n",
       "2020-12-17 14:49:00      2.0\n",
       "2021-01-07 12:35:00      2.2\n",
       "2021-02-25 10:25:00      1.6\n",
       "2021-03-16 12:50:00      2.3\n",
       "...                      ...\n",
       "2021-07-08 12:05:00     11.0\n",
       "2021-10-11 10:49:00      7.8\n",
       "2022-01-04 11:00:00      3.3\n",
       "2022-04-21 11:07:00     28.0\n",
       "2022-10-06 09:01:00     12.0\n",
       "\n",
       "[128792 rows x 1 columns]"
      ]
     },
     "execution_count": 89,
     "metadata": {},
     "output_type": "execute_result"
    }
   ],
   "source": [
    "datasetTest\n"
   ]
  },
  {
   "cell_type": "code",
   "execution_count": 90,
   "metadata": {},
   "outputs": [
    {
     "data": {
      "image/png": "[encoded data removed]",
      "text/plain": [
       "<Figure size 1000x1000 with 1 Axes>"
      ]
     },
     "metadata": {},
     "output_type": "display_data"
    }
   ],
   "source": [
    "datasetTrain['Ammonia'].resample('W').mean().plot(figsize=(10, 10))\n",
    "plt.show()"
   ]
  },
  {
   "cell_type": "code",
   "execution_count": 94,
   "metadata": {},
   "outputs": [
    {
     "ename": "AttributeError",
     "evalue": "module 'statsmodels' has no attribute 'seasonal_decompose'",
     "output_type": "error",
     "traceback": [
      "\u001b[0;31m---------------------------------------------------------------------------\u001b[0m",
      "\u001b[0;31mAttributeError\u001b[0m                            Traceback (most recent call last)",
      "Cell \u001b[0;32mIn [94], line 3\u001b[0m\n\u001b[1;32m      1\u001b[0m rcParams[\u001b[38;5;124m'\u001b[39m\u001b[38;5;124mfigure.figsize\u001b[39m\u001b[38;5;124m'\u001b[39m] \u001b[38;5;241m=\u001b[39m \u001b[38;5;241m11\u001b[39m, \u001b[38;5;241m9\u001b[39m\n\u001b[0;32m----> 3\u001b[0m decomposition \u001b[38;5;241m=\u001b[39m \u001b[43msm\u001b[49m\u001b[38;5;241;43m.\u001b[39;49m\u001b[43mseasonal_decompose\u001b[49m(datasetTrain\u001b[38;5;241m.\u001b[39mresample(\u001b[38;5;124m'\u001b[39m\u001b[38;5;124mW\u001b[39m\u001b[38;5;124m'\u001b[39m)\u001b[38;5;241m.\u001b[39mmean()[\u001b[38;5;124m'\u001b[39m\u001b[38;5;124mAmmonia\u001b[39m\u001b[38;5;124m'\u001b[39m], model\u001b[38;5;241m=\u001b[39m\u001b[38;5;124m'\u001b[39m\u001b[38;5;124madditive\u001b[39m\u001b[38;5;124m'\u001b[39m)\n\u001b[1;32m      4\u001b[0m fig \u001b[38;5;241m=\u001b[39m decomposition\u001b[38;5;241m.\u001b[39mplot()\n\u001b[1;32m      5\u001b[0m plt\u001b[38;5;241m.\u001b[39mshow()\n",
      "\u001b[0;31mAttributeError\u001b[0m: module 'statsmodels' has no attribute 'seasonal_decompose'"
     ]
    }
   ],
   "source": [
    "rcParams['figure.figsize'] = 11, 9\n",
    "\n",
    "decomposition = sm.seasonal_decompose(datasetTrain.resample('W').mean()['Ammonia'], model='additive')\n",
    "fig = decomposition.plot()\n",
    "plt.show()"
   ]
  },
  {
   "cell_type": "code",
   "execution_count": null,
   "metadata": {},
   "outputs": [],
   "source": []
  }
 ],
 "metadata": {
  "kernelspec": {
   "display_name": "Python 3 (ipykernel)",
   "language": "python",
   "name": "python3"
  },
  "language_info": {
   "codemirror_mode": {
    "name": "ipython",
    "version": 3
   },
   "file_extension": ".py",
   "mimetype": "text/x-python",
   "name": "python",
   "nbconvert_exporter": "python",
   "pygments_lexer": "ipython3",
   "version": "3.8.10"
  }
 },
 "nbformat": 4,
 "nbformat_minor": 4
}
